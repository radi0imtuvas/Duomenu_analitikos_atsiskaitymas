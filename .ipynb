{
 "cells": [
  {
   "cell_type": "code",
   "execution_count": 105,
   "metadata": {},
   "outputs": [],
   "source": [
    "import pandas as pd\n",
    "import matplotlib.pyplot as plt\n",
    "import numpy as np\n",
    "import seaborn as sns"
   ]
  },
  {
   "cell_type": "markdown",
   "metadata": {},
   "source": [
    "\n",
    "## Kokie parametrai leis sukurti ir išleisti gerai įvertinta  žaidimą\n",
    "i koki zanra verta investuoti"
   ]
  },
  {
   "cell_type": "code",
   "execution_count": 200,
   "metadata": {},
   "outputs": [
    {
     "data": {
      "text/html": [
       "<div>\n",
       "<style scoped>\n",
       "    .dataframe tbody tr th:only-of-type {\n",
       "        vertical-align: middle;\n",
       "    }\n",
       "\n",
       "    .dataframe tbody tr th {\n",
       "        vertical-align: top;\n",
       "    }\n",
       "\n",
       "    .dataframe thead th {\n",
       "        text-align: right;\n",
       "    }\n",
       "</style>\n",
       "<table border=\"1\" class=\"dataframe\">\n",
       "  <thead>\n",
       "    <tr style=\"text-align: right;\">\n",
       "      <th></th>\n",
       "      <th>name</th>\n",
       "      <th>platform</th>\n",
       "      <th>developer</th>\n",
       "      <th>publisher</th>\n",
       "      <th>genre(s)</th>\n",
       "      <th>players</th>\n",
       "      <th>rating</th>\n",
       "      <th>attribute</th>\n",
       "      <th>release_date</th>\n",
       "      <th>link</th>\n",
       "      <th>critic_positive</th>\n",
       "      <th>critic_neutral</th>\n",
       "      <th>critic_negative</th>\n",
       "      <th>metascore</th>\n",
       "      <th>user_positive</th>\n",
       "      <th>user_neutral</th>\n",
       "      <th>user_negative</th>\n",
       "      <th>user_score</th>\n",
       "    </tr>\n",
       "  </thead>\n",
       "  <tbody>\n",
       "    <tr>\n",
       "      <th>20417</th>\n",
       "      <td>ARK: Survival Evolved</td>\n",
       "      <td>Switch</td>\n",
       "      <td>Studio Wildcard</td>\n",
       "      <td>Studio Wildcard</td>\n",
       "      <td>Action Adventure</td>\n",
       "      <td>Online Multiplayer</td>\n",
       "      <td>T</td>\n",
       "      <td>NaN</td>\n",
       "      <td>Nov 30, 2018</td>\n",
       "      <td>/game/switch/ark-survival-evolved</td>\n",
       "      <td>0</td>\n",
       "      <td>1</td>\n",
       "      <td>11</td>\n",
       "      <td>29</td>\n",
       "      <td>4</td>\n",
       "      <td>0</td>\n",
       "      <td>5</td>\n",
       "      <td>2.4</td>\n",
       "    </tr>\n",
       "    <tr>\n",
       "      <th>20418</th>\n",
       "      <td>Wild West Online</td>\n",
       "      <td>PC</td>\n",
       "      <td>NaN</td>\n",
       "      <td>NaN</td>\n",
       "      <td>Role-Playing</td>\n",
       "      <td>Online Multiplayer</td>\n",
       "      <td>NaN</td>\n",
       "      <td>NaN</td>\n",
       "      <td>May 10, 2018</td>\n",
       "      <td>/game/pc/wild-west-online</td>\n",
       "      <td>0</td>\n",
       "      <td>0</td>\n",
       "      <td>8</td>\n",
       "      <td>29</td>\n",
       "      <td>0</td>\n",
       "      <td>0</td>\n",
       "      <td>9</td>\n",
       "      <td>0.4</td>\n",
       "    </tr>\n",
       "    <tr>\n",
       "      <th>20419</th>\n",
       "      <td>The Quiet Man</td>\n",
       "      <td>PS4</td>\n",
       "      <td>Square Enix, Human Head Studios</td>\n",
       "      <td>Square Enix</td>\n",
       "      <td>Action Adventure</td>\n",
       "      <td>No Online Multiplayer</td>\n",
       "      <td>M</td>\n",
       "      <td>NaN</td>\n",
       "      <td>Nov  1, 2018</td>\n",
       "      <td>/game/playstation-4/the-quiet-man</td>\n",
       "      <td>1</td>\n",
       "      <td>0</td>\n",
       "      <td>20</td>\n",
       "      <td>28</td>\n",
       "      <td>5</td>\n",
       "      <td>0</td>\n",
       "      <td>19</td>\n",
       "      <td>2.1</td>\n",
       "    </tr>\n",
       "    <tr>\n",
       "      <th>20420</th>\n",
       "      <td>Awkward</td>\n",
       "      <td>Switch</td>\n",
       "      <td>Snap Finger Click Ltd</td>\n",
       "      <td>Snap Finger Click Ltd</td>\n",
       "      <td>Miscellaneous</td>\n",
       "      <td>No Online Multiplayer</td>\n",
       "      <td>M</td>\n",
       "      <td>NaN</td>\n",
       "      <td>Jul  5, 2018</td>\n",
       "      <td>/game/switch/awkward</td>\n",
       "      <td>0</td>\n",
       "      <td>0</td>\n",
       "      <td>4</td>\n",
       "      <td>28</td>\n",
       "      <td>0</td>\n",
       "      <td>0</td>\n",
       "      <td>2</td>\n",
       "      <td>tbd</td>\n",
       "    </tr>\n",
       "    <tr>\n",
       "      <th>20421</th>\n",
       "      <td>Tennis</td>\n",
       "      <td>Switch</td>\n",
       "      <td>D3Publisher</td>\n",
       "      <td>D3Publisher</td>\n",
       "      <td>Sports</td>\n",
       "      <td>No Online Multiplayer</td>\n",
       "      <td>E</td>\n",
       "      <td>NaN</td>\n",
       "      <td>Jan 25, 2018</td>\n",
       "      <td>/game/switch/tennis</td>\n",
       "      <td>0</td>\n",
       "      <td>0</td>\n",
       "      <td>4</td>\n",
       "      <td>28</td>\n",
       "      <td>1</td>\n",
       "      <td>0</td>\n",
       "      <td>0</td>\n",
       "      <td>4.0</td>\n",
       "    </tr>\n",
       "  </tbody>\n",
       "</table>\n",
       "</div>"
      ],
      "text/plain": [
       "                        name platform                        developer  \\\n",
       "20417  ARK: Survival Evolved   Switch                  Studio Wildcard   \n",
       "20418       Wild West Online       PC                              NaN   \n",
       "20419          The Quiet Man      PS4  Square Enix, Human Head Studios   \n",
       "20420                Awkward   Switch            Snap Finger Click Ltd   \n",
       "20421                 Tennis   Switch                      D3Publisher   \n",
       "\n",
       "                   publisher          genre(s)                players rating  \\\n",
       "20417        Studio Wildcard  Action Adventure     Online Multiplayer      T   \n",
       "20418                    NaN      Role-Playing     Online Multiplayer    NaN   \n",
       "20419            Square Enix  Action Adventure  No Online Multiplayer      M   \n",
       "20420  Snap Finger Click Ltd     Miscellaneous  No Online Multiplayer      M   \n",
       "20421            D3Publisher            Sports  No Online Multiplayer      E   \n",
       "\n",
       "      attribute  release_date                               link  \\\n",
       "20417       NaN  Nov 30, 2018  /game/switch/ark-survival-evolved   \n",
       "20418       NaN  May 10, 2018          /game/pc/wild-west-online   \n",
       "20419       NaN  Nov  1, 2018  /game/playstation-4/the-quiet-man   \n",
       "20420       NaN  Jul  5, 2018               /game/switch/awkward   \n",
       "20421       NaN  Jan 25, 2018                /game/switch/tennis   \n",
       "\n",
       "       critic_positive  critic_neutral  critic_negative  metascore  \\\n",
       "20417                0               1               11         29   \n",
       "20418                0               0                8         29   \n",
       "20419                1               0               20         28   \n",
       "20420                0               0                4         28   \n",
       "20421                0               0                4         28   \n",
       "\n",
       "       user_positive  user_neutral  user_negative user_score  \n",
       "20417              4             0              5        2.4  \n",
       "20418              0             0              9        0.4  \n",
       "20419              5             0             19        2.1  \n",
       "20420              0             0              2        tbd  \n",
       "20421              1             0              0        4.0  "
      ]
     },
     "execution_count": 200,
     "metadata": {},
     "output_type": "execute_result"
    }
   ],
   "source": [
    "df_games = pd.read_csv(\"data/metacritic_games.csv\")\n",
    "df_games.tail()"
   ]
  },
  {
   "cell_type": "markdown",
   "metadata": {},
   "source": [
    "*sukuriame žanrų sąrašą"
   ]
  },
  {
   "cell_type": "code",
   "execution_count": 201,
   "metadata": {},
   "outputs": [
    {
     "name": "stdout",
     "output_type": "stream",
     "text": [
      "{'Adventure', '4X', 'Ice Hockey', 'Horror', 'Party', 'General', '2D', 'Olympic Sports', \"Beat-'Em-Up\", 'Western-Style', 'Sci-Fi', 'Fantasy', 'Alternative', 'Action RPG', 'Breeding/Constructing', 'Strategy', 'Formula One', 'Driving', 'Virtual Life', 'Massively Multiplayer Online', 'Traditional', 'Other', 'Rally / Offroad', 'Tycoon', 'Console-style RPG', 'Flight', 'Turn-Based', 'Role-Playing', 'Modern', 'Action', 'Wargame', 'Action Adventure', 'GT / Street', 'Third-Person', 'Puzzle', 'Sports', 'Pinball', 'Music Maker', 'Fighting', 'First-Person', 'Board Games', 'Music', 'Shooter', '3D', 'WWI', 'Real-Time', 'Card Battle', 'Futuristic', 'Platformer', 'Dancing', 'City Building', 'Rail', 'PC-style RPG', 'Miscellaneous', 'Sim', 'Simulation', 'Compilation', 'WWII', 'Edutainment', 'Tactical', 'Japanese-Style', 'Military', 'Scrolling', 'Arcade', 'MOBA', 'Historic', 'Racing', 'Street'}\n"
     ]
    }
   ],
   "source": [
    "df_games = df_games.rename(columns={\"genre(s)\": \"genres\"})\n",
    "genre_list = df_games.genres\n",
    "genre_list = set(genre_list)\n",
    "print(genre_list)"
   ]
  },
  {
   "cell_type": "code",
   "execution_count": 203,
   "metadata": {},
   "outputs": [],
   "source": [
    "df_games = df_games.dropna(subset=['genres'])"
   ]
  },
  {
   "cell_type": "code",
   "execution_count": 219,
   "metadata": {},
   "outputs": [
    {
     "data": {
      "text/plain": [
       "genres\n",
       "Action              7113\n",
       "Action Adventure    2268\n",
       "Sports              1847\n",
       "Role-Playing        1790\n",
       "Strategy            1654\n",
       "                    ... \n",
       "Edutainment            1\n",
       "Wargame                1\n",
       "MOBA                   1\n",
       "Flight                 1\n",
       "Western-Style          1\n",
       "Name: genres, Length: 68, dtype: int64"
      ]
     },
     "execution_count": 219,
     "metadata": {},
     "output_type": "execute_result"
    }
   ],
   "source": [
    "x = df_games.groupby('genres').genres.count()\n",
    "x.sort_values(ascending=False)"
   ]
  },
  {
   "cell_type": "code",
   "execution_count": 210,
   "metadata": {
    "scrolled": true
   },
   "outputs": [
    {
     "data": {
      "image/png": "[encoded data removed]",
      "text/plain": [
       "<Figure size 720x720 with 1 Axes>"
      ]
     },
     "metadata": {
      "needs_background": "light"
     },
     "output_type": "display_data"
    }
   ],
   "source": [
    "plt.figure(figsize=(10,10))\n",
    "sns.barplot(x=df_games.index, y=df_games['genres'])\n",
    "plt.tight_layout()"
   ]
  },
  {
   "cell_type": "code",
   "execution_count": null,
   "metadata": {},
   "outputs": [],
   "source": []
  },
  {
   "cell_type": "code",
   "execution_count": 81,
   "metadata": {},
   "outputs": [],
   "source": []
  },
  {
   "cell_type": "code",
   "execution_count": null,
   "metadata": {},
   "outputs": [],
   "source": []
  },
  {
   "cell_type": "code",
   "execution_count": null,
   "metadata": {},
   "outputs": [],
   "source": []
  },
  {
   "cell_type": "code",
   "execution_count": null,
   "metadata": {},
   "outputs": [],
   "source": []
  },
  {
   "cell_type": "code",
   "execution_count": null,
   "metadata": {},
   "outputs": [],
   "source": []
  },
  {
   "cell_type": "code",
   "execution_count": null,
   "metadata": {},
   "outputs": [],
   "source": []
  },
  {
   "cell_type": "code",
   "execution_count": null,
   "metadata": {},
   "outputs": [],
   "source": []
  },
  {
   "cell_type": "code",
   "execution_count": null,
   "metadata": {},
   "outputs": [],
   "source": []
  }
 ],
 "metadata": {
  "kernelspec": {
   "display_name": "Python 3",
   "language": "python",
   "name": "python3"
  },
  "language_info": {
   "codemirror_mode": {
    "name": "ipython",
    "version": 3
   },
   "file_extension": ".py",
   "mimetype": "text/x-python",
   "name": "python",
   "nbconvert_exporter": "python",
   "pygments_lexer": "ipython3",
   "version": "3.7.6"
  }
 },
 "nbformat": 4,
 "nbformat_minor": 4
}
